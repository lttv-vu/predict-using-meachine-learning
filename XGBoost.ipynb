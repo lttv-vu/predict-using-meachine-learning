{
  "nbformat": 4,
  "nbformat_minor": 0,
  "metadata": {
    "colab": {
      "provenance": []
    },
    "kernelspec": {
      "name": "python3",
      "display_name": "Python 3"
    },
    "language_info": {
      "name": "python"
    }
  },
  "cells": [
    {
      "cell_type": "code",
      "execution_count": null,
      "metadata": {
        "id": "JC76dcONHADG"
      },
      "outputs": [],
      "source": [
        "import pandas as pd\n",
        "import numpy as np\n",
        "import xgboost as xgb\n",
        "import matplotlib.pyplot as plt\n",
        "import seaborn as sns \n",
        "import math\n",
        "from pylab import rcParams\n",
        "\n",
        "from sklearn.model_selection import KFold,GridSearchCV\n",
        "from sklearn.preprocessing import MinMaxScaler\n",
        "\n",
        "from sklearn.metrics import mean_squared_error, mean_absolute_error, explained_variance_score, r2_score \n",
        "from sklearn.metrics import mean_poisson_deviance, mean_gamma_deviance, accuracy_score\n",
        "from sklearn.metrics import mean_absolute_percentage_error\n",
        "\n",
        "from itertools import cycle\n",
        "import plotly.graph_objects as go\n",
        "import plotly.express as px\n",
        "from plotly.subplots import make_subplots\n"
      ]
    },
    {
      "cell_type": "code",
      "source": [
        "# Dọc dữ liệu\n",
        "data = pd.read_csv('/content/META.csv')"
      ],
      "metadata": {
        "id": "yyhp9aayHR0L"
      },
      "execution_count": null,
      "outputs": []
    },
    {
      "cell_type": "code",
      "source": [
        "data"
      ],
      "metadata": {
        "colab": {
          "base_uri": "https://localhost:8080/",
          "height": 423
        },
        "id": "gUbVGHIWHe17",
        "outputId": "87111438-95b9-4645-e758-98d45eb5e021"
      },
      "execution_count": null,
      "outputs": [
        {
          "output_type": "execute_result",
          "data": {
            "text/plain": [
              "           Date        Open        High         Low       Close   Adj Close  \\\n",
              "0      1/3/2017  116.029999  117.839996  115.510002  116.860001  116.860001   \n",
              "1      1/4/2017  117.550003  119.660004  117.290001  118.690002  118.690002   \n",
              "2      1/5/2017  118.860001  120.949997  118.320000  120.669998  120.669998   \n",
              "3      1/6/2017  120.980003  123.879997  120.029999  123.410004  123.410004   \n",
              "4      1/9/2017  123.550003  125.430000  123.040001  124.900002  124.900002   \n",
              "...         ...         ...         ...         ...         ...         ...   \n",
              "1610  5/26/2023  252.929993  262.309998  252.710007  262.040009  262.040009   \n",
              "1611  5/30/2023  265.250000  268.649994  261.290009  262.519989  262.519989   \n",
              "1612  5/31/2023  260.000000  265.000000  258.450012  264.720001  264.720001   \n",
              "1613   6/1/2023  265.899994  274.000000  265.890015  272.609985  272.609985   \n",
              "1614   6/2/2023  272.660004  275.350006  271.119995  272.609985  272.609985   \n",
              "\n",
              "        Volume  \n",
              "0     20663900  \n",
              "1     19630900  \n",
              "2     19492200  \n",
              "3     28545300  \n",
              "4     22880400  \n",
              "...        ...  \n",
              "1610  25727200  \n",
              "1611  23816500  \n",
              "1612  25473700  \n",
              "1613  25609500  \n",
              "1614  19405300  \n",
              "\n",
              "[1615 rows x 7 columns]"
            ],
            "text/html": [
              "\n",
              "  <div id=\"df-62b1f30a-b36c-429e-bec5-86f591ddbae1\">\n",
              "    <div class=\"colab-df-container\">\n",
              "      <div>\n",
              "<style scoped>\n",
              "    .dataframe tbody tr th:only-of-type {\n",
              "        vertical-align: middle;\n",
              "    }\n",
              "\n",
              "    .dataframe tbody tr th {\n",
              "        vertical-align: top;\n",
              "    }\n",
              "\n",
              "    .dataframe thead th {\n",
              "        text-align: right;\n",
              "    }\n",
              "</style>\n",
              "<table border=\"1\" class=\"dataframe\">\n",
              "  <thead>\n",
              "    <tr style=\"text-align: right;\">\n",
              "      <th></th>\n",
              "      <th>Date</th>\n",
              "      <th>Open</th>\n",
              "      <th>High</th>\n",
              "      <th>Low</th>\n",
              "      <th>Close</th>\n",
              "      <th>Adj Close</th>\n",
              "      <th>Volume</th>\n",
              "    </tr>\n",
              "  </thead>\n",
              "  <tbody>\n",
              "    <tr>\n",
              "      <th>0</th>\n",
              "      <td>1/3/2017</td>\n",
              "      <td>116.029999</td>\n",
              "      <td>117.839996</td>\n",
              "      <td>115.510002</td>\n",
              "      <td>116.860001</td>\n",
              "      <td>116.860001</td>\n",
              "      <td>20663900</td>\n",
              "    </tr>\n",
              "    <tr>\n",
              "      <th>1</th>\n",
              "      <td>1/4/2017</td>\n",
              "      <td>117.550003</td>\n",
              "      <td>119.660004</td>\n",
              "      <td>117.290001</td>\n",
              "      <td>118.690002</td>\n",
              "      <td>118.690002</td>\n",
              "      <td>19630900</td>\n",
              "    </tr>\n",
              "    <tr>\n",
              "      <th>2</th>\n",
              "      <td>1/5/2017</td>\n",
              "      <td>118.860001</td>\n",
              "      <td>120.949997</td>\n",
              "      <td>118.320000</td>\n",
              "      <td>120.669998</td>\n",
              "      <td>120.669998</td>\n",
              "      <td>19492200</td>\n",
              "    </tr>\n",
              "    <tr>\n",
              "      <th>3</th>\n",
              "      <td>1/6/2017</td>\n",
              "      <td>120.980003</td>\n",
              "      <td>123.879997</td>\n",
              "      <td>120.029999</td>\n",
              "      <td>123.410004</td>\n",
              "      <td>123.410004</td>\n",
              "      <td>28545300</td>\n",
              "    </tr>\n",
              "    <tr>\n",
              "      <th>4</th>\n",
              "      <td>1/9/2017</td>\n",
              "      <td>123.550003</td>\n",
              "      <td>125.430000</td>\n",
              "      <td>123.040001</td>\n",
              "      <td>124.900002</td>\n",
              "      <td>124.900002</td>\n",
              "      <td>22880400</td>\n",
              "    </tr>\n",
              "    <tr>\n",
              "      <th>...</th>\n",
              "      <td>...</td>\n",
              "      <td>...</td>\n",
              "      <td>...</td>\n",
              "      <td>...</td>\n",
              "      <td>...</td>\n",
              "      <td>...</td>\n",
              "      <td>...</td>\n",
              "    </tr>\n",
              "    <tr>\n",
              "      <th>1610</th>\n",
              "      <td>5/26/2023</td>\n",
              "      <td>252.929993</td>\n",
              "      <td>262.309998</td>\n",
              "      <td>252.710007</td>\n",
              "      <td>262.040009</td>\n",
              "      <td>262.040009</td>\n",
              "      <td>25727200</td>\n",
              "    </tr>\n",
              "    <tr>\n",
              "      <th>1611</th>\n",
              "      <td>5/30/2023</td>\n",
              "      <td>265.250000</td>\n",
              "      <td>268.649994</td>\n",
              "      <td>261.290009</td>\n",
              "      <td>262.519989</td>\n",
              "      <td>262.519989</td>\n",
              "      <td>23816500</td>\n",
              "    </tr>\n",
              "    <tr>\n",
              "      <th>1612</th>\n",
              "      <td>5/31/2023</td>\n",
              "      <td>260.000000</td>\n",
              "      <td>265.000000</td>\n",
              "      <td>258.450012</td>\n",
              "      <td>264.720001</td>\n",
              "      <td>264.720001</td>\n",
              "      <td>25473700</td>\n",
              "    </tr>\n",
              "    <tr>\n",
              "      <th>1613</th>\n",
              "      <td>6/1/2023</td>\n",
              "      <td>265.899994</td>\n",
              "      <td>274.000000</td>\n",
              "      <td>265.890015</td>\n",
              "      <td>272.609985</td>\n",
              "      <td>272.609985</td>\n",
              "      <td>25609500</td>\n",
              "    </tr>\n",
              "    <tr>\n",
              "      <th>1614</th>\n",
              "      <td>6/2/2023</td>\n",
              "      <td>272.660004</td>\n",
              "      <td>275.350006</td>\n",
              "      <td>271.119995</td>\n",
              "      <td>272.609985</td>\n",
              "      <td>272.609985</td>\n",
              "      <td>19405300</td>\n",
              "    </tr>\n",
              "  </tbody>\n",
              "</table>\n",
              "<p>1615 rows × 7 columns</p>\n",
              "</div>\n",
              "      <button class=\"colab-df-convert\" onclick=\"convertToInteractive('df-62b1f30a-b36c-429e-bec5-86f591ddbae1')\"\n",
              "              title=\"Convert this dataframe to an interactive table.\"\n",
              "              style=\"display:none;\">\n",
              "        \n",
              "  <svg xmlns=\"http://www.w3.org/2000/svg\" height=\"24px\"viewBox=\"0 0 24 24\"\n",
              "       width=\"24px\">\n",
              "    <path d=\"M0 0h24v24H0V0z\" fill=\"none\"/>\n",
              "    <path d=\"M18.56 5.44l.94 2.06.94-2.06 2.06-.94-2.06-.94-.94-2.06-.94 2.06-2.06.94zm-11 1L8.5 8.5l.94-2.06 2.06-.94-2.06-.94L8.5 2.5l-.94 2.06-2.06.94zm10 10l.94 2.06.94-2.06 2.06-.94-2.06-.94-.94-2.06-.94 2.06-2.06.94z\"/><path d=\"M17.41 7.96l-1.37-1.37c-.4-.4-.92-.59-1.43-.59-.52 0-1.04.2-1.43.59L10.3 9.45l-7.72 7.72c-.78.78-.78 2.05 0 2.83L4 21.41c.39.39.9.59 1.41.59.51 0 1.02-.2 1.41-.59l7.78-7.78 2.81-2.81c.8-.78.8-2.07 0-2.86zM5.41 20L4 18.59l7.72-7.72 1.47 1.35L5.41 20z\"/>\n",
              "  </svg>\n",
              "      </button>\n",
              "      \n",
              "  <style>\n",
              "    .colab-df-container {\n",
              "      display:flex;\n",
              "      flex-wrap:wrap;\n",
              "      gap: 12px;\n",
              "    }\n",
              "\n",
              "    .colab-df-convert {\n",
              "      background-color: #E8F0FE;\n",
              "      border: none;\n",
              "      border-radius: 50%;\n",
              "      cursor: pointer;\n",
              "      display: none;\n",
              "      fill: #1967D2;\n",
              "      height: 32px;\n",
              "      padding: 0 0 0 0;\n",
              "      width: 32px;\n",
              "    }\n",
              "\n",
              "    .colab-df-convert:hover {\n",
              "      background-color: #E2EBFA;\n",
              "      box-shadow: 0px 1px 2px rgba(60, 64, 67, 0.3), 0px 1px 3px 1px rgba(60, 64, 67, 0.15);\n",
              "      fill: #174EA6;\n",
              "    }\n",
              "\n",
              "    [theme=dark] .colab-df-convert {\n",
              "      background-color: #3B4455;\n",
              "      fill: #D2E3FC;\n",
              "    }\n",
              "\n",
              "    [theme=dark] .colab-df-convert:hover {\n",
              "      background-color: #434B5C;\n",
              "      box-shadow: 0px 1px 3px 1px rgba(0, 0, 0, 0.15);\n",
              "      filter: drop-shadow(0px 1px 2px rgba(0, 0, 0, 0.3));\n",
              "      fill: #FFFFFF;\n",
              "    }\n",
              "  </style>\n",
              "\n",
              "      <script>\n",
              "        const buttonEl =\n",
              "          document.querySelector('#df-62b1f30a-b36c-429e-bec5-86f591ddbae1 button.colab-df-convert');\n",
              "        buttonEl.style.display =\n",
              "          google.colab.kernel.accessAllowed ? 'block' : 'none';\n",
              "\n",
              "        async function convertToInteractive(key) {\n",
              "          const element = document.querySelector('#df-62b1f30a-b36c-429e-bec5-86f591ddbae1');\n",
              "          const dataTable =\n",
              "            await google.colab.kernel.invokeFunction('convertToInteractive',\n",
              "                                                     [key], {});\n",
              "          if (!dataTable) return;\n",
              "\n",
              "          const docLinkHtml = 'Like what you see? Visit the ' +\n",
              "            '<a target=\"_blank\" href=https://colab.research.google.com/notebooks/data_table.ipynb>data table notebook</a>'\n",
              "            + ' to learn more about interactive tables.';\n",
              "          element.innerHTML = '';\n",
              "          dataTable['output_type'] = 'display_data';\n",
              "          await google.colab.output.renderOutput(dataTable, element);\n",
              "          const docLink = document.createElement('div');\n",
              "          docLink.innerHTML = docLinkHtml;\n",
              "          element.appendChild(docLink);\n",
              "        }\n",
              "      </script>\n",
              "    </div>\n",
              "  </div>\n",
              "  "
            ]
          },
          "metadata": {},
          "execution_count": 3
        }
      ]
    },
    {
      "cell_type": "code",
      "source": [
        "# Biểu đồ giá đóng cửa của dữ liệu\n",
        "data['Close'].plot()"
      ],
      "metadata": {
        "colab": {
          "base_uri": "https://localhost:8080/",
          "height": 448
        },
        "id": "kSRf5pz7Hjvj",
        "outputId": "26486252-901f-40b2-8e48-7ca12f8c45d0"
      },
      "execution_count": null,
      "outputs": [
        {
          "output_type": "execute_result",
          "data": {
            "text/plain": [
              "<Axes: >"
            ]
          },
          "metadata": {},
          "execution_count": 4
        },
        {
          "output_type": "display_data",
          "data": {
            "text/plain": [
              "<Figure size 640x480 with 1 Axes>"
            ],
            "image/png": "[encoded data removed]"
          },
          "metadata": {}
        }
      ]
    },
    {
      "cell_type": "code",
      "source": [
        "close_data = data[['Date','Close']]\n",
        "print(\"Shape of close dataframe:\", close_data.shape)"
      ],
      "metadata": {
        "colab": {
          "base_uri": "https://localhost:8080/"
        },
        "id": "dRZ3QZnUQujK",
        "outputId": "cbab0c48-b575-466d-938b-a1e44348285d"
      },
      "execution_count": null,
      "outputs": [
        {
          "output_type": "stream",
          "name": "stdout",
          "text": [
            "Shape of close dataframe: (1615, 2)\n"
          ]
        }
      ]
    },
    {
      "cell_type": "code",
      "source": [
        "close_data"
      ],
      "metadata": {
        "colab": {
          "base_uri": "https://localhost:8080/",
          "height": 423
        },
        "id": "5a8JHdHYSSIR",
        "outputId": "ba9db351-2d3f-4fcd-9f70-37fe45c2a38e"
      },
      "execution_count": null,
      "outputs": [
        {
          "output_type": "execute_result",
          "data": {
            "text/plain": [
              "           Date       Close\n",
              "0      1/3/2017  116.860001\n",
              "1      1/4/2017  118.690002\n",
              "2      1/5/2017  120.669998\n",
              "3      1/6/2017  123.410004\n",
              "4      1/9/2017  124.900002\n",
              "...         ...         ...\n",
              "1610  5/26/2023  262.040009\n",
              "1611  5/30/2023  262.519989\n",
              "1612  5/31/2023  264.720001\n",
              "1613   6/1/2023  272.609985\n",
              "1614   6/2/2023  272.609985\n",
              "\n",
              "[1615 rows x 2 columns]"
            ],
            "text/html": [
              "\n",
              "  <div id=\"df-bf774359-12d2-440f-a372-53afa3c43659\">\n",
              "    <div class=\"colab-df-container\">\n",
              "      <div>\n",
              "<style scoped>\n",
              "    .dataframe tbody tr th:only-of-type {\n",
              "        vertical-align: middle;\n",
              "    }\n",
              "\n",
              "    .dataframe tbody tr th {\n",
              "        vertical-align: top;\n",
              "    }\n",
              "\n",
              "    .dataframe thead th {\n",
              "        text-align: right;\n",
              "    }\n",
              "</style>\n",
              "<table border=\"1\" class=\"dataframe\">\n",
              "  <thead>\n",
              "    <tr style=\"text-align: right;\">\n",
              "      <th></th>\n",
              "      <th>Date</th>\n",
              "      <th>Close</th>\n",
              "    </tr>\n",
              "  </thead>\n",
              "  <tbody>\n",
              "    <tr>\n",
              "      <th>0</th>\n",
              "      <td>1/3/2017</td>\n",
              "      <td>116.860001</td>\n",
              "    </tr>\n",
              "    <tr>\n",
              "      <th>1</th>\n",
              "      <td>1/4/2017</td>\n",
              "      <td>118.690002</td>\n",
              "    </tr>\n",
              "    <tr>\n",
              "      <th>2</th>\n",
              "      <td>1/5/2017</td>\n",
              "      <td>120.669998</td>\n",
              "    </tr>\n",
              "    <tr>\n",
              "      <th>3</th>\n",
              "      <td>1/6/2017</td>\n",
              "      <td>123.410004</td>\n",
              "    </tr>\n",
              "    <tr>\n",
              "      <th>4</th>\n",
              "      <td>1/9/2017</td>\n",
              "      <td>124.900002</td>\n",
              "    </tr>\n",
              "    <tr>\n",
              "      <th>...</th>\n",
              "      <td>...</td>\n",
              "      <td>...</td>\n",
              "    </tr>\n",
              "    <tr>\n",
              "      <th>1610</th>\n",
              "      <td>5/26/2023</td>\n",
              "      <td>262.040009</td>\n",
              "    </tr>\n",
              "    <tr>\n",
              "      <th>1611</th>\n",
              "      <td>5/30/2023</td>\n",
              "      <td>262.519989</td>\n",
              "    </tr>\n",
              "    <tr>\n",
              "      <th>1612</th>\n",
              "      <td>5/31/2023</td>\n",
              "      <td>264.720001</td>\n",
              "    </tr>\n",
              "    <tr>\n",
              "      <th>1613</th>\n",
              "      <td>6/1/2023</td>\n",
              "      <td>272.609985</td>\n",
              "    </tr>\n",
              "    <tr>\n",
              "      <th>1614</th>\n",
              "      <td>6/2/2023</td>\n",
              "      <td>272.609985</td>\n",
              "    </tr>\n",
              "  </tbody>\n",
              "</table>\n",
              "<p>1615 rows × 2 columns</p>\n",
              "</div>\n",
              "      <button class=\"colab-df-convert\" onclick=\"convertToInteractive('df-bf774359-12d2-440f-a372-53afa3c43659')\"\n",
              "              title=\"Convert this dataframe to an interactive table.\"\n",
              "              style=\"display:none;\">\n",
              "        \n",
              "  <svg xmlns=\"http://www.w3.org/2000/svg\" height=\"24px\"viewBox=\"0 0 24 24\"\n",
              "       width=\"24px\">\n",
              "    <path d=\"M0 0h24v24H0V0z\" fill=\"none\"/>\n",
              "    <path d=\"M18.56 5.44l.94 2.06.94-2.06 2.06-.94-2.06-.94-.94-2.06-.94 2.06-2.06.94zm-11 1L8.5 8.5l.94-2.06 2.06-.94-2.06-.94L8.5 2.5l-.94 2.06-2.06.94zm10 10l.94 2.06.94-2.06 2.06-.94-2.06-.94-.94-2.06-.94 2.06-2.06.94z\"/><path d=\"M17.41 7.96l-1.37-1.37c-.4-.4-.92-.59-1.43-.59-.52 0-1.04.2-1.43.59L10.3 9.45l-7.72 7.72c-.78.78-.78 2.05 0 2.83L4 21.41c.39.39.9.59 1.41.59.51 0 1.02-.2 1.41-.59l7.78-7.78 2.81-2.81c.8-.78.8-2.07 0-2.86zM5.41 20L4 18.59l7.72-7.72 1.47 1.35L5.41 20z\"/>\n",
              "  </svg>\n",
              "      </button>\n",
              "      \n",
              "  <style>\n",
              "    .colab-df-container {\n",
              "      display:flex;\n",
              "      flex-wrap:wrap;\n",
              "      gap: 12px;\n",
              "    }\n",
              "\n",
              "    .colab-df-convert {\n",
              "      background-color: #E8F0FE;\n",
              "      border: none;\n",
              "      border-radius: 50%;\n",
              "      cursor: pointer;\n",
              "      display: none;\n",
              "      fill: #1967D2;\n",
              "      height: 32px;\n",
              "      padding: 0 0 0 0;\n",
              "      width: 32px;\n",
              "    }\n",
              "\n",
              "    .colab-df-convert:hover {\n",
              "      background-color: #E2EBFA;\n",
              "      box-shadow: 0px 1px 2px rgba(60, 64, 67, 0.3), 0px 1px 3px 1px rgba(60, 64, 67, 0.15);\n",
              "      fill: #174EA6;\n",
              "    }\n",
              "\n",
              "    [theme=dark] .colab-df-convert {\n",
              "      background-color: #3B4455;\n",
              "      fill: #D2E3FC;\n",
              "    }\n",
              "\n",
              "    [theme=dark] .colab-df-convert:hover {\n",
              "      background-color: #434B5C;\n",
              "      box-shadow: 0px 1px 3px 1px rgba(0, 0, 0, 0.15);\n",
              "      filter: drop-shadow(0px 1px 2px rgba(0, 0, 0, 0.3));\n",
              "      fill: #FFFFFF;\n",
              "    }\n",
              "  </style>\n",
              "\n",
              "      <script>\n",
              "        const buttonEl =\n",
              "          document.querySelector('#df-bf774359-12d2-440f-a372-53afa3c43659 button.colab-df-convert');\n",
              "        buttonEl.style.display =\n",
              "          google.colab.kernel.accessAllowed ? 'block' : 'none';\n",
              "\n",
              "        async function convertToInteractive(key) {\n",
              "          const element = document.querySelector('#df-bf774359-12d2-440f-a372-53afa3c43659');\n",
              "          const dataTable =\n",
              "            await google.colab.kernel.invokeFunction('convertToInteractive',\n",
              "                                                     [key], {});\n",
              "          if (!dataTable) return;\n",
              "\n",
              "          const docLinkHtml = 'Like what you see? Visit the ' +\n",
              "            '<a target=\"_blank\" href=https://colab.research.google.com/notebooks/data_table.ipynb>data table notebook</a>'\n",
              "            + ' to learn more about interactive tables.';\n",
              "          element.innerHTML = '';\n",
              "          dataTable['output_type'] = 'display_data';\n",
              "          await google.colab.output.renderOutput(dataTable, element);\n",
              "          const docLink = document.createElement('div');\n",
              "          docLink.innerHTML = docLinkHtml;\n",
              "          element.appendChild(docLink);\n",
              "        }\n",
              "      </script>\n",
              "    </div>\n",
              "  </div>\n",
              "  "
            ]
          },
          "metadata": {},
          "execution_count": 6
        }
      ]
    },
    {
      "cell_type": "code",
      "source": [
        "close_stock = close_data.Close.values.copy\n",
        "print(close_stock)"
      ],
      "metadata": {
        "colab": {
          "base_uri": "https://localhost:8080/"
        },
        "id": "p8aqxZYlU3un",
        "outputId": "0bfbee09-4329-4405-8a43-6853193f3e0c"
      },
      "execution_count": null,
      "outputs": [
        {
          "output_type": "stream",
          "name": "stdout",
          "text": [
            "<built-in method copy of numpy.ndarray object at 0x7ff0f0580cf0>\n"
          ]
        }
      ]
    },
    {
      "cell_type": "code",
      "source": [
        "del close_data['Date']\n",
        "scaler=MinMaxScaler(feature_range=(0,1))\n",
        "close_data=scaler.fit_transform(np.array(close_data).reshape(-1,1))\n",
        "print(close_data.shape)"
      ],
      "metadata": {
        "colab": {
          "base_uri": "https://localhost:8080/"
        },
        "id": "YU7eXkwWRhjB",
        "outputId": "44f5ab48-298a-49fd-8df2-d9bc73a70ad6"
      },
      "execution_count": null,
      "outputs": [
        {
          "output_type": "stream",
          "name": "stdout",
          "text": [
            "(1615, 1)\n"
          ]
        }
      ]
    },
    {
      "cell_type": "code",
      "source": [
        "# chia data: Train 70%, Test 20%, Val 10%\n",
        "\n",
        "train_size = int(0.7 * len(close_data))\n",
        "test_size = int(0.2 * len(close_data))\n",
        "val_size = len(close_data) - train_size - test_size\n",
        "\n",
        "train_data = close_data[0:train_size,:]\n",
        "test_data = close_data[train_size:train_size+test_size]\n",
        "val_data = close_data[train_size+test_size:]\n",
        "\n",
        "print(\"Data length :\", len(close_data))\n",
        "print(\"Train data length :\", train_size)\n",
        "print(\"Test data length: \",test_size)\n",
        "print(\"Validation data lenth :\", val_size)"
      ],
      "metadata": {
        "colab": {
          "base_uri": "https://localhost:8080/"
        },
        "id": "WhdXnzqpT_lQ",
        "outputId": "7d9c4dd1-ce4d-470b-dfb0-6e0ddd3df60b"
      },
      "execution_count": null,
      "outputs": [
        {
          "output_type": "stream",
          "name": "stdout",
          "text": [
            "Data length : 1615\n",
            "Train data length : 1130\n",
            "Test data length:  323\n",
            "Validation data lenth : 162\n"
          ]
        }
      ]
    },
    {
      "cell_type": "code",
      "source": [
        "# Tạo hàm Chuyển mảng thành ma trận\n",
        "def create_dataset(dataset, time_step=1):\n",
        "    dataX, dataY = [], []\n",
        "    for i in range(len(dataset)-time_step-1):\n",
        "        a = dataset[i:(i+time_step), 0]   ###i=0, 0,1,2,3-----99   100 \n",
        "        dataX.append(a)\n",
        "        dataY.append(dataset[i + time_step, 0])\n",
        "    return np.array(dataX), np.array(dataY)"
      ],
      "metadata": {
        "id": "B6aKxecWXHRN"
      },
      "execution_count": null,
      "outputs": []
    },
    {
      "cell_type": "code",
      "source": [
        "# Chuyển mảng trên từng tập dữ liệu\n",
        "time_step = 50\n",
        "X_train, y_train = create_dataset(train_data, time_step)\n",
        "X_test, y_test = create_dataset(test_data, time_step)\n",
        "X_val, y_val =create_dataset(val_data, time_step)\n",
        "\n",
        "print(\"X_train: \", X_train.shape)\n",
        "print(\"y_train: \", y_train.shape)\n",
        "print(\"X_test: \", X_test.shape)\n",
        "print(\"y_test\", y_test.shape)\n",
        "print(\"X_val: \", X_val.shape)\n",
        "print(\"y_val\", y_val.shape)"
      ],
      "metadata": {
        "colab": {
          "base_uri": "https://localhost:8080/"
        },
        "id": "kZ2b9qxWXLe1",
        "outputId": "15f17c2e-939b-429d-84e5-9de19ce97170"
      },
      "execution_count": null,
      "outputs": [
        {
          "output_type": "stream",
          "name": "stdout",
          "text": [
            "X_train:  (1079, 50)\n",
            "y_train:  (1079,)\n",
            "X_test:  (272, 50)\n",
            "y_test (272,)\n",
            "X_val:  (111, 50)\n",
            "y_val (111,)\n"
          ]
        }
      ]
    },
    {
      "cell_type": "code",
      "source": [
        "# Tạo model XGBregessor\n",
        "\n",
        "from xgboost import XGBRegressor\n",
        "my_model = XGBRegressor(n_estimators=1000)\n",
        "my_model.fit(X_train, y_train,eval_set=[(X_test, y_test)], verbose=False)"
      ],
      "metadata": {
        "colab": {
          "base_uri": "https://localhost:8080/",
          "height": 248
        },
        "id": "F82f0LWQUQQt",
        "outputId": "292ea995-c260-4875-884d-b3c97d315a8f"
      },
      "execution_count": null,
      "outputs": [
        {
          "output_type": "execute_result",
          "data": {
            "text/plain": [
              "XGBRegressor(base_score=None, booster=None, callbacks=None,\n",
              "             colsample_bylevel=None, colsample_bynode=None,\n",
              "             colsample_bytree=None, early_stopping_rounds=None,\n",
              "             enable_categorical=False, eval_metric=None, feature_types=None,\n",
              "             gamma=None, gpu_id=None, grow_policy=None, importance_type=None,\n",
              "             interaction_constraints=None, learning_rate=None, max_bin=None,\n",
              "             max_cat_threshold=None, max_cat_to_onehot=None,\n",
              "             max_delta_step=None, max_depth=None, max_leaves=None,\n",
              "             min_child_weight=None, missing=nan, monotone_constraints=None,\n",
              "             n_estimators=1000, n_jobs=None, num_parallel_tree=None,\n",
              "             predictor=None, random_state=None, ...)"
            ],
            "text/html": [
              "<style>#sk-container-id-1 {color: black;background-color: white;}#sk-container-id-1 pre{padding: 0;}#sk-container-id-1 div.sk-toggleable {background-color: white;}#sk-container-id-1 label.sk-toggleable__label {cursor: pointer;display: block;width: 100%;margin-bottom: 0;padding: 0.3em;box-sizing: border-box;text-align: center;}#sk-container-id-1 label.sk-toggleable__label-arrow:before {content: \"▸\";float: left;margin-right: 0.25em;color: #696969;}#sk-container-id-1 label.sk-toggleable__label-arrow:hover:before {color: black;}#sk-container-id-1 div.sk-estimator:hover label.sk-toggleable__label-arrow:before {color: black;}#sk-container-id-1 div.sk-toggleable__content {max-height: 0;max-width: 0;overflow: hidden;text-align: left;background-color: #f0f8ff;}#sk-container-id-1 div.sk-toggleable__content pre {margin: 0.2em;color: black;border-radius: 0.25em;background-color: #f0f8ff;}#sk-container-id-1 input.sk-toggleable__control:checked~div.sk-toggleable__content {max-height: 200px;max-width: 100%;overflow: auto;}#sk-container-id-1 input.sk-toggleable__control:checked~label.sk-toggleable__label-arrow:before {content: \"▾\";}#sk-container-id-1 div.sk-estimator input.sk-toggleable__control:checked~label.sk-toggleable__label {background-color: #d4ebff;}#sk-container-id-1 div.sk-label input.sk-toggleable__control:checked~label.sk-toggleable__label {background-color: #d4ebff;}#sk-container-id-1 input.sk-hidden--visually {border: 0;clip: rect(1px 1px 1px 1px);clip: rect(1px, 1px, 1px, 1px);height: 1px;margin: -1px;overflow: hidden;padding: 0;position: absolute;width: 1px;}#sk-container-id-1 div.sk-estimator {font-family: monospace;background-color: #f0f8ff;border: 1px dotted black;border-radius: 0.25em;box-sizing: border-box;margin-bottom: 0.5em;}#sk-container-id-1 div.sk-estimator:hover {background-color: #d4ebff;}#sk-container-id-1 div.sk-parallel-item::after {content: \"\";width: 100%;border-bottom: 1px solid gray;flex-grow: 1;}#sk-container-id-1 div.sk-label:hover label.sk-toggleable__label {background-color: #d4ebff;}#sk-container-id-1 div.sk-serial::before {content: \"\";position: absolute;border-left: 1px solid gray;box-sizing: border-box;top: 0;bottom: 0;left: 50%;z-index: 0;}#sk-container-id-1 div.sk-serial {display: flex;flex-direction: column;align-items: center;background-color: white;padding-right: 0.2em;padding-left: 0.2em;position: relative;}#sk-container-id-1 div.sk-item {position: relative;z-index: 1;}#sk-container-id-1 div.sk-parallel {display: flex;align-items: stretch;justify-content: center;background-color: white;position: relative;}#sk-container-id-1 div.sk-item::before, #sk-container-id-1 div.sk-parallel-item::before {content: \"\";position: absolute;border-left: 1px solid gray;box-sizing: border-box;top: 0;bottom: 0;left: 50%;z-index: -1;}#sk-container-id-1 div.sk-parallel-item {display: flex;flex-direction: column;z-index: 1;position: relative;background-color: white;}#sk-container-id-1 div.sk-parallel-item:first-child::after {align-self: flex-end;width: 50%;}#sk-container-id-1 div.sk-parallel-item:last-child::after {align-self: flex-start;width: 50%;}#sk-container-id-1 div.sk-parallel-item:only-child::after {width: 0;}#sk-container-id-1 div.sk-dashed-wrapped {border: 1px dashed gray;margin: 0 0.4em 0.5em 0.4em;box-sizing: border-box;padding-bottom: 0.4em;background-color: white;}#sk-container-id-1 div.sk-label label {font-family: monospace;font-weight: bold;display: inline-block;line-height: 1.2em;}#sk-container-id-1 div.sk-label-container {text-align: center;}#sk-container-id-1 div.sk-container {/* jupyter's `normalize.less` sets `[hidden] { display: none; }` but bootstrap.min.css set `[hidden] { display: none !important; }` so we also need the `!important` here to be able to override the default hidden behavior on the sphinx rendered scikit-learn.org. See: https://github.com/scikit-learn/scikit-learn/issues/21755 */display: inline-block !important;position: relative;}#sk-container-id-1 div.sk-text-repr-fallback {display: none;}</style><div id=\"sk-container-id-1\" class=\"sk-top-container\"><div class=\"sk-text-repr-fallback\"><pre>XGBRegressor(base_score=None, booster=None, callbacks=None,\n",
              "             colsample_bylevel=None, colsample_bynode=None,\n",
              "             colsample_bytree=None, early_stopping_rounds=None,\n",
              "             enable_categorical=False, eval_metric=None, feature_types=None,\n",
              "             gamma=None, gpu_id=None, grow_policy=None, importance_type=None,\n",
              "             interaction_constraints=None, learning_rate=None, max_bin=None,\n",
              "             max_cat_threshold=None, max_cat_to_onehot=None,\n",
              "             max_delta_step=None, max_depth=None, max_leaves=None,\n",
              "             min_child_weight=None, missing=nan, monotone_constraints=None,\n",
              "             n_estimators=1000, n_jobs=None, num_parallel_tree=None,\n",
              "             predictor=None, random_state=None, ...)</pre><b>In a Jupyter environment, please rerun this cell to show the HTML representation or trust the notebook. <br />On GitHub, the HTML representation is unable to render, please try loading this page with nbviewer.org.</b></div><div class=\"sk-container\" hidden><div class=\"sk-item\"><div class=\"sk-estimator sk-toggleable\"><input class=\"sk-toggleable__control sk-hidden--visually\" id=\"sk-estimator-id-1\" type=\"checkbox\" checked><label for=\"sk-estimator-id-1\" class=\"sk-toggleable__label sk-toggleable__label-arrow\">XGBRegressor</label><div class=\"sk-toggleable__content\"><pre>XGBRegressor(base_score=None, booster=None, callbacks=None,\n",
              "             colsample_bylevel=None, colsample_bynode=None,\n",
              "             colsample_bytree=None, early_stopping_rounds=None,\n",
              "             enable_categorical=False, eval_metric=None, feature_types=None,\n",
              "             gamma=None, gpu_id=None, grow_policy=None, importance_type=None,\n",
              "             interaction_constraints=None, learning_rate=None, max_bin=None,\n",
              "             max_cat_threshold=None, max_cat_to_onehot=None,\n",
              "             max_delta_step=None, max_depth=None, max_leaves=None,\n",
              "             min_child_weight=None, missing=nan, monotone_constraints=None,\n",
              "             n_estimators=1000, n_jobs=None, num_parallel_tree=None,\n",
              "             predictor=None, random_state=None, ...)</pre></div></div></div></div></div>"
            ]
          },
          "metadata": {},
          "execution_count": 14
        }
      ]
    },
    {
      "cell_type": "code",
      "source": [
        "predictions = my_model.predict(X_test)\n",
        "print(\"Mean Absolute Error - MAE : \" + str(mean_absolute_error(y_test, predictions)))\n",
        "print(\"Root Mean squared Error - RMSE : \" + str(math.sqrt(mean_squared_error(y_test, predictions))))\n",
        "print(\"Mean Absolute Percentage Error - MAPE : \" + str(mean_absolute_percentage_error(y_test, predictions)))\n",
        "\n"
      ],
      "metadata": {
        "colab": {
          "base_uri": "https://localhost:8080/"
        },
        "id": "DGoupd8PXhJf",
        "outputId": "e625fd54-1b34-4aa3-eec4-6603695b8c18"
      },
      "execution_count": null,
      "outputs": [
        {
          "output_type": "stream",
          "name": "stdout",
          "text": [
            "Mean Absolute Error - MAE : 0.033821388626876656\n",
            "Root Mean squared Error - RMSE : 0.047640125956734475\n",
            "Mean Absolute Percentage Error - MAPE : 0.07031111287847645\n"
          ]
        }
      ]
    },
    {
      "cell_type": "code",
      "source": [
        "train_predict=my_model.predict(X_train)\n",
        "test_predict=my_model.predict(X_test)\n",
        "val_predict=my_model.predict(X_val)\n",
        "\n",
        "train_predict = train_predict.reshape(-1,1)\n",
        "test_predict = test_predict.reshape(-1,1)\n",
        "val_predict = val_predict.reshape(-1,1)\n",
        "\n",
        "print(\"Train data prediction:\", train_predict.shape)\n",
        "print(\"Test data prediction:\", test_predict.shape)\n",
        "print(\"Val data prediction:\", val_predict.shape)"
      ],
      "metadata": {
        "colab": {
          "base_uri": "https://localhost:8080/"
        },
        "id": "axmFMOk8YD0R",
        "outputId": "9144db26-979a-4934-d113-26228ad4a449"
      },
      "execution_count": null,
      "outputs": [
        {
          "output_type": "stream",
          "name": "stdout",
          "text": [
            "Train data prediction: (1079, 1)\n",
            "Test data prediction: (272, 1)\n",
            "Val data prediction: (111, 1)\n"
          ]
        }
      ]
    },
    {
      "cell_type": "code",
      "source": [
        "\n",
        "train_predict = scaler.inverse_transform(train_predict)\n",
        "test_predict = scaler.inverse_transform(test_predict)\n",
        "val_predict = scaler.inverse_transform(val_predict)\n",
        "\n",
        "original_ytrain = scaler.inverse_transform(y_train.reshape(-1,1)) \n",
        "original_ytest = scaler.inverse_transform(y_test.reshape(-1,1)) \n",
        "original_yval = scaler.inverse_transform(y_val.reshape(-1,1)) \n"
      ],
      "metadata": {
        "id": "EGn-DNQOYU60"
      },
      "execution_count": null,
      "outputs": []
    },
    {
      "cell_type": "code",
      "source": [
        "test_predict.shape"
      ],
      "metadata": {
        "colab": {
          "base_uri": "https://localhost:8080/"
        },
        "id": "9ZkOvE3rZXHj",
        "outputId": "7b50b251-d4af-401e-efe9-ae1e2b474f4e"
      },
      "execution_count": null,
      "outputs": [
        {
          "output_type": "execute_result",
          "data": {
            "text/plain": [
              "(272, 1)"
            ]
          },
          "metadata": {},
          "execution_count": 134
        }
      ]
    },
    {
      "cell_type": "code",
      "source": [
        "train_predict.shape"
      ],
      "metadata": {
        "colab": {
          "base_uri": "https://localhost:8080/"
        },
        "id": "ajMLe1UFYoed",
        "outputId": "91fa3ad7-4ee0-4dc2-b83d-af42be3c23c7"
      },
      "execution_count": null,
      "outputs": [
        {
          "output_type": "execute_result",
          "data": {
            "text/plain": [
              "(1079, 1)"
            ]
          },
          "metadata": {},
          "execution_count": 136
        }
      ]
    },
    {
      "cell_type": "code",
      "source": [
        "time_step"
      ],
      "metadata": {
        "colab": {
          "base_uri": "https://localhost:8080/"
        },
        "id": "kRVkwkI7Z70T",
        "outputId": "b510f0e7-8339-46b0-ce0c-71f8b1bb4a70"
      },
      "execution_count": null,
      "outputs": [
        {
          "output_type": "execute_result",
          "data": {
            "text/plain": [
              "50"
            ]
          },
          "metadata": {},
          "execution_count": 132
        }
      ]
    },
    {
      "cell_type": "code",
      "source": [
        "\n",
        "# 14.Vẽ hình\n",
        "\n",
        "train_data_index = pd.RangeIndex(start=0, stop=train_size, step=1)\n",
        "plt.plot(scaler.inverse_transform(train_data))\n",
        "\n",
        "test_data_index = pd.RangeIndex(start=train_size, stop=train_size+test_size, step=1)\n",
        "plt.plot(test_data_index,scaler.inverse_transform(test_data))\n",
        "\n",
        "test_data_index = pd.RangeIndex(start=train_size+51, stop=train_size+test_size, step=1)\n",
        "plt.plot(test_data_index,(original_ytest))\n",
        "\n",
        "val_data_index = pd.RangeIndex(start=train_size+test_size, stop=train_size+test_size+val_size, step=1)\n",
        "plt.plot(val_data_index,scaler.inverse_transform(val_data))\n",
        "\n",
        "val_data_index = pd.RangeIndex(start=train_size+test_size+51, stop=train_size+test_size+val_size, step=1)\n",
        "plt.plot(val_data_index,original_yval)\n",
        "\n",
        "\n",
        "plt.legend(['Train','Test','Predict of test','Validate','Predict of validate'])\n",
        "plt.show()"
      ],
      "metadata": {
        "colab": {
          "base_uri": "https://localhost:8080/",
          "height": 430
        },
        "id": "eCt2NwFvem7H",
        "outputId": "356ca2f0-1a05-469f-c159-e0ac15da1f49"
      },
      "execution_count": null,
      "outputs": [
        {
          "output_type": "display_data",
          "data": {
            "text/plain": [
              "<Figure size 640x480 with 1 Axes>"
            ],
            "image/png": "[encoded data removed]"
          },
          "metadata": {}
        }
      ]
    },
    {
      "cell_type": "code",
      "source": [
        "#Dung 50 ngay du doan 1 ngay tiep theo\n",
        "x_input=test_data[len(test_data)-time_step:].reshape(1,-1)\n",
        "temp_input=list(x_input)\n",
        "temp_input=temp_input[0].tolist()\n",
        "\n",
        "from numpy import array\n",
        "\n",
        "lst_output=[]\n",
        "n_steps=time_step\n",
        "i=0\n",
        "pred_days = 10\n",
        "while(i<pred_days):\n",
        "    \n",
        "    if(len(temp_input)>time_step):\n",
        "        \n",
        "        x_input=np.array(temp_input[1:])\n",
        "        print(\"{} day input {}\".format(i,x_input))\n",
        "        x_input=x_input.reshape(1,-1)\n",
        "        \n",
        "        yhat = my_model.predict(x_input)\n",
        "        print(\"{} day output {}\".format(i,yhat))\n",
        "        temp_input.extend(yhat.tolist())\n",
        "        temp_input=temp_input[1:]\n",
        "       \n",
        "        lst_output.extend(yhat.tolist())\n",
        "        i=i+1\n",
        "        \n",
        "    else:\n",
        "        yhat = my_model.predict(x_input)\n",
        "        \n",
        "        temp_input.extend(yhat.tolist())\n",
        "        lst_output.extend(yhat.tolist())\n",
        "        \n",
        "        i=i+1\n",
        "        \n",
        "# print(\"Output of predicted next days: \", len(lst_output))"
      ],
      "metadata": {
        "id": "P_xWp5V9kHsC"
      },
      "execution_count": null,
      "outputs": []
    },
    {
      "cell_type": "code",
      "source": [
        "# Giá trị dự đoán 10 ngày tiếp theo\n",
        "lst_output = np.array(lst_output)\n",
        "ot = scaler.inverse_transform(lst_output.reshape(-1,1)) \n",
        "ot\n",
        "for i in range(ot_len):\n",
        "  print(\"Dự đoán ngày \", i+1, \":\", ot[i])"
      ],
      "metadata": {
        "colab": {
          "base_uri": "https://localhost:8080/"
        },
        "id": "Mj4WcBzmeLpM",
        "outputId": "cb643e18-287b-42ec-80dc-93caf2659388"
      },
      "execution_count": null,
      "outputs": [
        {
          "output_type": "stream",
          "name": "stdout",
          "text": [
            "Dự đoán ngày  1 : [134.55664887]\n",
            "Dự đoán ngày  2 : [133.5649766]\n",
            "Dự đoán ngày  3 : [136.13878224]\n",
            "Dự đoán ngày  4 : [135.43095871]\n",
            "Dự đoán ngày  5 : [133.66668983]\n",
            "Dự đoán ngày  6 : [135.63530724]\n",
            "Dự đoán ngày  7 : [133.72600907]\n",
            "Dự đoán ngày  8 : [137.67090898]\n",
            "Dự đoán ngày  9 : [137.58141446]\n",
            "Dự đoán ngày  10 : [138.04816782]\n"
          ]
        }
      ]
    },
    {
      "cell_type": "code",
      "source": [
        "# Giá đóng cửa 10 ngày dự đoán\n",
        "my_model=close_data.tolist()\n",
        "my_model.extend((np.array(lst_output).reshape(-1,1)).tolist())\n",
        "my_model=scaler.inverse_transform(my_model).reshape(1,-1).tolist()[0]\n",
        "\n",
        "names = cycle(['Close Price'])\n",
        "\n",
        "fig = px.line(my_model,labels={'value': 'Close price','index': 'Timestamp'})\n",
        "fig.update_layout(title_text='Plotting whole closing price with prediction',\n",
        "                  plot_bgcolor='white', font_size=15, font_color='black',legend_title_text='Stock')\n",
        "fig.for_each_trace(lambda t:  t.update(name = next(names)))\n",
        "fig.update_xaxes(showgrid=False)\n",
        "fig.update_yaxes(showgrid=False)\n",
        "fig.show()"
      ],
      "metadata": {
        "colab": {
          "base_uri": "https://localhost:8080/",
          "height": 542
        },
        "id": "wv1sqCTFkqIp",
        "outputId": "ffe17ff5-8319-465d-b2a8-1f2c35b5e755"
      },
      "execution_count": null,
      "outputs": [
        {
          "output_type": "display_data",
          "data": {
            "text/html": [
              "<html>\n",
              "<head><meta charset=\"utf-8\" /></head>\n",
              "<body>\n",
              "    <div>            <script src=\"https://cdnjs.cloudflare.com/ajax/libs/mathjax/2.7.5/MathJax.js?config=TeX-AMS-MML_SVG\"></script><script type=\"text/javascript\">if (window.MathJax && window.MathJax.Hub && window.MathJax.Hub.Config) {window.MathJax.Hub.Config({SVG: {font: \"STIX-Web\"}});}</script>                <script type=\"text/javascript\">window.PlotlyConfig = {MathJaxConfig: 'local'};</script>\n",
              "        <script src=\"https://cdn.plot.ly/plotly-2.18.2.min.js\"></script>                <div id=\"011bf934-e941-474b-8e15-474d44826c70\" class=\"plotly-graph-div\" style=\"height:525px; width:100%;\"></div>            <script type=\"text/javascript\">                                    window.PLOTLYENV=window.PLOTLYENV || {};                                    if (document.getElementById(\"011bf934-e941-474b-8e15-474d44826c70\")) {                    Plotly.newPlot(                        \"011bf934-e941-474b-8e15-474d44826c70\",                        [{\"hovertemplate\":\"variable=0<br>Timestamp=%{x}<br>Close price=%{y}<extra></extra>\",\"legendgroup\":\"0\",\"line\":{\"color\":\"#636efa\",\"dash\":\"solid\"},\"marker\":{\"symbol\":\"circle\"},\"mode\":\"lines\",\"name\":\"Close Price\",\"showlegend\":true,\"x\":[0,1,2,3,4,5,6,7,8,9,10,11,12,13,14,15,16,17,18,19,20,21,22,23,24,25,26,27,28,29,30,31,32,33,34,35,36,37,38,39,40,41,42,43,44,45,46,47,48,49,50,51,52,53,54,55,56,57,58,59,60,61,62,63,64,65,66,67,68,69,70,71,72,73,74,75,76,77,78,79,80,81,82,83,84,85,86,87,88,89,90,91,92,93,94,95,96,97,98,99,100,101,102,103,104,105,106,107,108,109,110,111,112,113,114,115,116,117,118,119,120,121,122,123,124,125,126,127,128,129,130,131,132,133,134,135,136,137,138,139,140,141,142,143,144,145,146,147,148,149,150,151,152,153,154,155,156,157,158,159,160,161,162,163,164,165,166,167,168,169,170,171,172,173,174,175,176,177,178,179,180,181,182,183,184,185,186,187,188,189,190,191,192,193,194,195,196,197,198,199,200,201,202,203,204,205,206,207,208,209,210,211,212,213,214,215,216,217,218,219,220,221,222,223,224,225,226,227,228,229,230,231,232,233,234,235,236,237,238,239,240,241,242,243,244,245,246,247,248,249,250,251,252,253,254,255,256,257,258,259,260,261,262,263,264,265,266,267,268,269,270,271,272,273,274,275,276,277,278,279,280,281,282,283,284,285,286,287,288,289,290,291,292,293,294,295,296,297,298,299,300,301,302,303,304,305,306,307,308,309,310,311,312,313,314,315,316,317,318,319,320,321,322,323,324,325,326,327,328,329,330,331,332,333,334,335,336,337,338,339,340,341,342,343,344,345,346,347,348,349,350,351,352,353,354,355,356,357,358,359,360,361,362,363,364,365,366,367,368,369,370,371,372,373,374,375,376,377,378,379,380,381,382,383,384,385,386,387,388,389,390,391,392,393,394,395,396,397,398,399,400,401,402,403,404,405,406,407,408,409,410,411,412,413,414,415,416,417,418,419,420,421,422,423,424,425,426,427,428,429,430,431,432,433,434,435,436,437,438,439,440,441,442,443,444,445,446,447,448,449,450,451,452,453,454,455,456,457,458,459,460,461,462,463,464,465,466,467,468,469,470,471,472,473,474,475,476,477,478,479,480,481,482,483,484,485,486,487,488,489,490,491,492,493,494,495,496,497,498,499,500,501,502,503,504,505,506,507,508,509,510,511,512,513,514,515,516,517,518,519,520,521,522,523,524,525,526,527,528,529,530,531,532,533,534,535,536,537,538,539,540,541,542,543,544,545,546,547,548,549,550,551,552,553,554,555,556,557,558,559,560,561,562,563,564,565,566,567,568,569,570,571,572,573,574,575,576,577,578,579,580,581,582,583,584,585,586,587,588,589,590,591,592,593,594,595,596,597,598,599,600,601,602,603,604,605,606,607,608,609,610,611,612,613,614,615,616,617,618,619,620,621,622,623,624,625,626,627,628,629,630,631,632,633,634,635,636,637,638,639,640,641,642,643,644,645,646,647,648,649,650,651,652,653,654,655,656,657,658,659,660,661,662,663,664,665,666,667,668,669,670,671,672,673,674,675,676,677,678,679,680,681,682,683,684,685,686,687,688,689,690,691,692,693,694,695,696,697,698,699,700,701,702,703,704,705,706,707,708,709,710,711,712,713,714,715,716,717,718,719,720,721,722,723,724,725,726,727,728,729,730,731,732,733,734,735,736,737,738,739,740,741,742,743,744,745,746,747,748,749,750,751,752,753,754,755,756,757,758,759,760,761,762,763,764,765,766,767,768,769,770,771,772,773,774,775,776,777,778,779,780,781,782,783,784,785,786,787,788,789,790,791,792,793,794,795,796,797,798,799,800,801,802,803,804,805,806,807,808,809,810,811,812,813,814,815,816,817,818,819,820,821,822,823,824,825,826,827,828,829,830,831,832,833,834,835,836,837,838,839,840,841,842,843,844,845,846,847,848,849,850,851,852,853,854,855,856,857,858,859,860,861,862,863,864,865,866,867,868,869,870,871,872,873,874,875,876,877,878,879,880,881,882,883,884,885,886,887,888,889,890,891,892,893,894,895,896,897,898,899,900,901,902,903,904,905,906,907,908,909,910,911,912,913,914,915,916,917,918,919,920,921,922,923,924,925,926,927,928,929,930,931,932,933,934,935,936,937,938,939,940,941,942,943,944,945,946,947,948,949,950,951,952,953,954,955,956,957,958,959,960,961,962,963,964,965,966,967,968,969,970,971,972,973,974,975,976,977,978,979,980,981,982,983,984,985,986,987,988,989,990,991,992,993,994,995,996,997,998,999,1000,1001,1002,1003,1004,1005,1006,1007,1008,1009,1010,1011,1012,1013,1014,1015,1016,1017,1018,1019,1020,1021,1022,1023,1024,1025,1026,1027,1028,1029,1030,1031,1032,1033,1034,1035,1036,1037,1038,1039,1040,1041,1042,1043,1044,1045,1046,1047,1048,1049,1050,1051,1052,1053,1054,1055,1056,1057,1058,1059,1060,1061,1062,1063,1064,1065,1066,1067,1068,1069,1070,1071,1072,1073,1074,1075,1076,1077,1078,1079,1080,1081,1082,1083,1084,1085,1086,1087,1088,1089,1090,1091,1092,1093,1094,1095,1096,1097,1098,1099,1100,1101,1102,1103,1104,1105,1106,1107,1108,1109,1110,1111,1112,1113,1114,1115,1116,1117,1118,1119,1120,1121,1122,1123,1124,1125,1126,1127,1128,1129,1130,1131,1132,1133,1134,1135,1136,1137,1138,1139,1140,1141,1142,1143,1144,1145,1146,1147,1148,1149,1150,1151,1152,1153,1154,1155,1156,1157,1158,1159,1160,1161,1162,1163,1164,1165,1166,1167,1168,1169,1170,1171,1172,1173,1174,1175,1176,1177,1178,1179,1180,1181,1182,1183,1184,1185,1186,1187,1188,1189,1190,1191,1192,1193,1194,1195,1196,1197,1198,1199,1200,1201,1202,1203,1204,1205,1206,1207,1208,1209,1210,1211,1212,1213,1214,1215,1216,1217,1218,1219,1220,1221,1222,1223,1224,1225,1226,1227,1228,1229,1230,1231,1232,1233,1234,1235,1236,1237,1238,1239,1240,1241,1242,1243,1244,1245,1246,1247,1248,1249,1250,1251,1252,1253,1254,1255,1256,1257,1258,1259,1260,1261,1262,1263,1264,1265,1266,1267,1268,1269,1270,1271,1272,1273,1274,1275,1276,1277,1278,1279,1280,1281,1282,1283,1284,1285,1286,1287,1288,1289,1290,1291,1292,1293,1294,1295,1296,1297,1298,1299,1300,1301,1302,1303,1304,1305,1306,1307,1308,1309,1310,1311,1312,1313,1314,1315,1316,1317,1318,1319,1320,1321,1322,1323,1324,1325,1326,1327,1328,1329,1330,1331,1332,1333,1334,1335,1336,1337,1338,1339,1340,1341,1342,1343,1344,1345,1346,1347,1348,1349,1350,1351,1352,1353,1354,1355,1356,1357,1358,1359,1360,1361,1362,1363,1364,1365,1366,1367,1368,1369,1370,1371,1372,1373,1374,1375,1376,1377,1378,1379,1380,1381,1382,1383,1384,1385,1386,1387,1388,1389,1390,1391,1392,1393,1394,1395,1396,1397,1398,1399,1400,1401,1402,1403,1404,1405,1406,1407,1408,1409,1410,1411,1412,1413,1414,1415,1416,1417,1418,1419,1420,1421,1422,1423,1424,1425,1426,1427,1428,1429,1430,1431,1432,1433,1434,1435,1436,1437,1438,1439,1440,1441,1442,1443,1444,1445,1446,1447,1448,1449,1450,1451,1452,1453,1454,1455,1456,1457,1458,1459,1460,1461,1462,1463,1464,1465,1466,1467,1468,1469,1470,1471,1472,1473,1474,1475,1476,1477,1478,1479,1480,1481,1482,1483,1484,1485,1486,1487,1488,1489,1490,1491,1492,1493,1494,1495,1496,1497,1498,1499,1500,1501,1502,1503,1504,1505,1506,1507,1508,1509,1510,1511,1512,1513,1514,1515,1516,1517,1518,1519,1520,1521,1522,1523,1524,1525,1526,1527,1528,1529,1530,1531,1532,1533,1534,1535,1536,1537,1538,1539,1540,1541,1542,1543,1544,1545,1546,1547,1548,1549,1550,1551,1552,1553,1554,1555,1556,1557,1558,1559,1560,1561,1562,1563,1564,1565,1566,1567,1568,1569,1570,1571,1572,1573,1574,1575,1576,1577,1578,1579,1580,1581,1582,1583,1584,1585,1586,1587,1588,1589,1590,1591,1592,1593,1594,1595,1596,1597,1598,1599,1600,1601,1602,1603,1604,1605,1606,1607,1608,1609,1610,1611,1612,1613,1614,1615,1616,1617,1618,1619,1620,1621,1622,1623,1624],\"xaxis\":\"x\",\"y\":[116.860001,118.690002,120.669998,123.410004,124.90000199999999,124.349998,126.089996,126.620003,128.339996,127.87000299999998,127.919998,127.550003,127.040001,128.929993,129.369995,131.479996,132.779999,132.179993,130.979996,130.320007,133.229996,130.839996,130.979996,132.059998,131.839996,134.199997,134.139999,134.190002,134.050003,133.850006,133.440002,133.839996,133.529999,133.720001,136.119995,135.360001,135.440002,136.410004,135.539993,137.419998,136.759995,137.169998,137.419998,137.300003,137.720001,138.240005,138.789993,139.600006,139.320007,139.720001,139.990005,139.839996,139.940002,138.509995,139.589996,139.529999,140.339996,140.320007,141.759995,142.649994,142.410004,142.050003,142.279999,141.729996,141.850006,141.169998,140.779999,141.039993,139.919998,139.580002,139.389999,141.419998,140.960007,142.270004,143.800003,143.679993,145.470001,146.490005,146.559998,147.699997,150.25,152.46000700000002,152.779999,151.800003,150.850006,150.240005,151.059998,150.479996,150.289993,150.03999299999998,150.330002,150.19000199999996,149.779999,144.850006,147.660004,148.059998,148.240005,148.070007,150.03999299999998,151.960007,152.130005,152.380005,151.460007,151.529999,153.610001,153.630005,152.809998,153.119995,154.71000699999996,149.600006,148.440002,150.679993,150.25,149.800003,150.639999,152.869995,152.25,153.910004,153.399994,155.070007,153.589996,150.580002,153.240005,151.039993,150.979996,148.429993,150.339996,148.820007,151.440002,153.5,155.270004,158.899994,159.259995,159.970001,159.729996,162.860001,164.139999,164.529999,164.429993,166.0,165.279999,165.610001,170.440002,172.44999700000002,169.25,169.860001,169.300003,168.589996,169.619995,171.979996,171.229996,171.17999300000002,167.399994,168.080002,170.75000000000003,171.0,170.0,166.910004,167.41000400000001,167.77999900000003,169.639999,168.71000699999996,167.740005,166.320007,167.240005,168.050003,169.919998,171.970001,172.020004,170.720001,172.089996,173.210007,170.949997,173.509995,172.960007,173.050003,170.96000699999996,171.639999,170.009995,172.520004,172.169998,171.110001,170.539993,162.869995,164.210007,167.679993,168.72999600000003,170.869995,169.470001,169.960007,168.419998,171.240005,172.229996,172.5,171.589996,172.740005,172.550003,173.740005,174.520004,176.110001,176.029999,174.559998,174.979996,171.270004,171.800003,170.600006,170.630005,177.880005,179.869995,180.059998,182.660004,178.919998,178.919998,180.169998,180.25,179.55999800000004,179.300003,178.460007,178.770004,178.070007,177.949997,179.589996,179.0,178.74000499999997,181.860001,180.86999499999996,182.779999,183.029999,182.419998,175.130005,177.179993,175.100006,171.470001,172.830002,176.059998,180.139999,179.0,179.039993,176.960007,178.300003,178.38999900000002,180.179993,180.820007,179.509995,177.889999,177.449997,177.199997,175.990005,177.619995,177.919998,176.460007,181.419998,184.669998,184.330002,186.850006,188.279999,187.869995,187.839996,187.770004,179.36999499999996,178.38999900000002,177.600006,179.800003,181.289993,185.369995,189.350006,186.550003,187.479996,189.99999999999997,185.979996,187.119995,186.889999,193.089996,190.279999,181.25999500000003,185.309998,180.179993,171.580002,176.110001,176.410004,173.149994,179.520004,179.960007,177.360001,176.009995,177.910004,178.990005,183.289993,184.929993,181.460007,178.320007,175.940002,176.619995,180.399994,179.779999,183.710007,182.339996,185.229996,184.759995,181.880005,184.190002,183.860001,185.089996,172.559998,168.149994,169.389999,164.889999,159.389999,160.059998,152.220001,153.02999900000003,159.789993,155.389999,156.110001,155.100006,159.33999600000004,157.199997,157.92999299999997,165.039993,166.320007,163.86999500000002,164.520004,164.830002,168.660004,166.360001,168.10000600000004,166.279999,165.839996,159.690002,159.690002,174.160004,173.589996,172.0,173.860001,176.070007,174.020004,176.610001,177.970001,178.919998,182.660004,185.52999899999998,186.990005,186.639999,184.320007,183.199997,183.759995,182.679993,184.490005,183.800003,186.899994,185.92999300000002,184.919998,185.740005,187.669998,191.779999,193.990005,193.279999,192.94000200000002,191.339996,188.17999299999997,189.100006,191.539993,192.399994,192.410004,196.809998,195.850006,198.309998,197.490005,202.0,201.5,201.740005,196.350006,199.0,195.839996,196.229996,194.320007,197.360001,192.729996,198.449997,203.229996,204.740005,203.539993,202.539993,206.919998,207.320007,207.229996,209.990005,209.360001,208.08999599999999,209.94000199999996,210.910004,214.669998,217.5,176.259995,174.889999,171.059998,172.580002,171.649994,176.36999500000002,177.779999,185.690002,183.809998,185.17999300000002,183.089996,180.259995,180.050003,181.110001,179.529999,174.69999699999997,173.800003,172.5,172.619995,173.639999,172.899994,174.649994,177.460007,176.259995,175.899994,177.639999,175.729996,171.16000399999996,167.179993,162.529999,163.039993,164.179993,165.940002,162.0,161.360001,162.320007,160.580002,160.300003,163.059998,166.020004,162.929993,165.410004,164.910004,166.949997,168.839996,164.460007,162.440002,159.330002,162.429993,158.850006,157.330002,157.25,157.899994,151.380005,153.35000600000004,153.740005,153.520004,158.779999,159.419998,154.919998,154.050003,154.779999,154.389999,146.039993,150.949997,145.369995,142.089996,146.220001,151.789993,151.75,150.350006,148.679993,149.940002,151.529999,147.869995,144.960007,141.550003,142.160004,144.220001,143.850006,139.529999,131.550003,132.429993,134.820007,131.729996,136.380005,135.0,136.759995,138.679993,140.610001,141.089996,137.929993,139.630005,137.419998,141.850006,142.080002,144.5,145.009995,144.059998,140.190002,143.660004,133.240005,133.399994,124.949997,124.059998,134.179993,134.520004,133.199997,131.089996,135.679993,131.740005,137.949997,138.050003,142.529999,144.229996,144.199997,143.800003,145.389999,148.949997,147.539993,148.300003,150.03999299999998,147.570007,144.300003,145.830002,149.009995,147.470001,144.190002,150.41999799999996,166.690002,165.71000700000002,169.25,171.16000399999996,170.490005,166.380005,167.330002,165.789993,165.039993,164.070007,163.949997,162.5,162.289993,162.559998,160.039993,161.889999,164.61999499999996,164.130005,162.809998,161.44999699999997,162.279999,167.369995,171.259995,172.509995,169.130005,169.60000600000004,172.070007,171.919998,173.369995,170.169998,165.979996,160.47000100000002,161.570007,165.440002,166.08000200000004,164.339996,166.289993,167.679993,165.869995,165.550003,166.690002,168.699997,174.199997,173.539993,176.020004,175.720001,174.92999299999997,177.580002,177.820007,177.509995,179.100006,179.649994,178.869995,178.779999,178.279999,181.440002,183.779999,182.580002,193.259995,191.490005,194.779999,193.39999399999996,193.029999,192.529999,195.470001,193.880005,189.77000400000003,189.539993,188.649994,188.339996,181.539993,180.729996,186.270004,186.990005,185.30000300000003,182.720001,184.820007,185.320007,180.86999499999996,181.05999800000004,184.309998,182.190002,183.009995,177.47000099999997,164.149994,167.5,168.169998,168.33000200000004,173.350006,174.82000699999998,178.100006,175.03999300000004,177.47000099999997,181.330002,189.009995,188.470001,187.479996,189.529999,191.139999,192.600006,188.83999600000004,187.660004,189.5,193.0,193.0,195.0,197.199997,196.399994,195.759995,199.210007,202.72999599999997,201.22999600000003,204.869995,203.910004,203.839996,201.800003,200.779999,198.360001,202.320007,202.360001,204.660004,200.710007,199.75,195.94000199999996,197.039993,194.229996,192.729996,189.02000400000003,181.729996,184.509995,185.149994,190.160004,187.850006,185.369995,188.449997,179.710007,182.589996,183.699997,186.169998,183.809998,183.550003,182.039993,177.75,180.360001,181.300003,181.759995,185.570007,185.669998,182.389999,187.139999,190.899994,187.490005,188.759995,186.169998,188.490005,187.470001,187.190002,186.220001,188.080002,188.139999,190.139999,189.929993,186.820007,181.279999,182.800003,180.11000100000004,177.100006,178.080002,175.809998,174.600006,179.380005,180.449997,179.679993,177.75,179.850006,180.029999,184.190002,183.27999900000003,188.889999,189.550003,190.389999,185.85000599999998,189.759995,182.339996,186.149994,186.380005,187.889999,189.399994,189.309998,188.25,191.649994,193.619995,194.720001,194.320007,191.550003,190.419998,190.839996,189.610001,194.470001,193.190002,193.149994,195.100006,197.399994,199.320007,197.50999500000003,197.929993,198.820007,199.789993,198.970001,202.0,201.639999,199.699997,198.820007,198.710007,199.360001,201.050003,201.339996,200.869995,202.259995,196.75,194.11000100000004,197.919998,198.38999899999996,202.50000000000003,206.059998,206.300003,206.179993,205.119995,207.789993,208.100006,204.410004,205.25,209.779999,208.66999799999996,212.600006,213.059998,215.220001,218.300003,218.059998,221.910004,219.059998,221.149994,221.770004,222.139999,221.440002,221.32000699999998,219.759995,217.940002,214.869995,217.789993,223.229996,209.529999,201.910004,204.190002,209.830002,210.110001,210.850006,212.330002,213.059998,207.190002,210.75999500000003,213.13999899999996,214.179993,217.80000299999998,217.490005,214.580002,210.179993,200.720001,196.770004,197.199997,189.75,192.470001,196.440002,185.889999,191.759995,185.169998,181.089996,169.5,178.19000200000002,170.240005,154.470001,170.279999,146.009995,149.419998,146.960007,153.130005,149.729996,148.100006,160.979996,156.21000699999996,163.339996,156.789993,165.949997,166.800003,159.600006,158.190002,154.179993,165.550003,168.830002,174.279999,175.190002,174.789993,178.169998,176.970001,176.25,179.240005,178.240005,170.800003,182.279999,185.13000499999998,190.070007,187.5,182.91000400000001,194.190002,204.710007,202.27000400000003,205.259995,207.070007,208.47000099999997,211.259995,212.350006,213.179993,210.100006,205.100006,206.809998,210.88000500000004,213.190002,216.880005,229.970001,231.389999,234.910004,232.19999700000002,229.139999,225.460007,225.089996,231.910004,232.720001,230.16000399999996,226.289993,230.770004,231.399994,238.669998,236.729996,224.429993,228.580002,232.5,235.64999399999996,235.529999,235.940002,238.789993,239.22000099999997,242.24000499999994,234.02000400000003,235.679993,216.080002,220.639999,227.070007,237.550003,233.419998,240.27999899999998,240.86000099999998,243.58000199999998,244.49999999999997,245.070007,239.0,239.729996,240.27999899999998,240.92999299999997,242.02999899999998,245.41999799999996,241.75,239.86999499999996,232.600006,230.71000699999996,233.49999999999997,230.119995,233.289993,234.5,253.66999799999994,251.96000699999996,249.830002,249.119995,265.279999,268.440002,263.0,256.130005,259.890015,261.2999879999999,261.2399899999999,261.16000399999996,262.3399959999999,262.589996,269.01001,267.01001,271.390015,280.8200069999999,303.910004,293.220001,293.660004,293.20001199999996,295.440002,302.5,291.119995,282.730011,271.160004,273.72000099999997,268.0899959999999,266.609985,266.149994,272.420013,263.519989,254.82000699999998,252.52999899999998,248.149994,254.74999999999997,249.02000399999997,249.52999899999998,254.82000699999998,256.8200069999999,261.790009,261.899994,266.630005,259.940002,264.649994,258.660004,258.119995,263.76000999999997,264.450012,275.75,276.140015,271.8200069999999,266.720001,265.929993,261.399994,267.55999799999995,278.73001099999993,278.119995,284.790009,277.109985,283.290009,267.670013,280.829987,263.10998499999994,261.35998499999994,265.299988,287.380005,294.6799930000001,293.410004,278.76998899999995,272.42999299999997,276.480011,275.079987,276.95001199999996,278.95999099999995,274.99999999999994,271.97000099999997,272.940002,269.70001199999996,268.429993,276.920013,275.5899959999999,277.80999799999995,276.970001,286.549988,287.51998899999995,281.85000599999995,279.700012,285.579987,283.399994,277.920013,277.119995,273.549988,274.190002,275.549988,275.6700129999999,274.480011,276.399994,272.79000899999994,267.089996,268.109985,267.399994,277.0,276.7799989999999,271.869995,273.16000399999996,268.940002,270.970001,263.30999799999995,268.7399899999999,267.5700069999999,256.839996,251.08999599999999,251.63999899999996,245.63999899999993,251.36000099999998,261.10000599999995,267.480011,272.869995,274.5,278.01001,282.0499879999999,272.14001499999995,265.0,258.32998699999996,262.01001,267.07998699999996,266.64999399999994,266.48999,268.100006,266.579987,269.450012,271.869995,270.390015,270.49999999999994,273.970001,273.570007,269.39001499999995,261.55999799999995,260.329987,265.85998499999994,264.309998,254.69000199999996,257.61999499999996,264.910004,258.99999999999994,255.410004,257.64001499999995,264.279999,255.309998,265.7399899999999,264.899994,273.880005,268.399994,273.74999999999994,279.279999,284.01001,278.619995,290.109985,293.54000899999994,290.630005,282.140015,278.7399899999999,283.01998899999995,290.8200069999999,288.0,294.529999,298.660004,308.910004,306.26001,313.089996,313.019989,312.459991,311.540009,309.76000999999997,302.82000700000003,307.820007,306.179993,302.23999,302.649994,301.470001,296.519989,301.130005,303.040009,303.570007,307.100006,329.51001,325.079987,322.579987,318.359985,315.019989,320.019989,319.079987,305.970001,306.529999,302.54998800000004,305.26000999999997,315.940002,315.459991,309.95999100000006,313.589996,318.609985,316.230011,324.630005,327.790009,327.660004,332.74999999999994,328.730011,329.130005,329.149994,326.04000899999994,330.350006,336.579987,333.679993,330.25,332.459991,331.26001,336.769989,336.75,331.079987,336.51001,329.660004,332.290009,339.029999,340.5899959999999,343.179993,341.369995,355.640015,351.890015,347.709991,354.390015,354.700012,352.779999,350.48999,345.649994,350.420013,353.160004,352.089996,347.630005,344.459991,341.16000399999996,336.950012,341.660004,346.230011,351.190002,369.790009,372.459991,367.809998,373.279999,358.320007,356.299988,351.950012,351.23999,358.920013,362.970001,363.51001,361.609985,361.130005,359.959991,362.64999400000005,363.179993,366.55999800000006,358.45001199999996,355.4500120000001,355.119995,359.369995,363.35000599999995,365.51001,368.39001499999995,364.380005,372.630005,380.660004,379.380005,382.049988,375.279999,376.26001,382.179993,377.570007,378.0,378.690002,376.51001,376.529999,373.920013,373.059998,364.720001,355.700012,357.480011,343.209991,345.959991,352.959991,353.579987,340.649994,339.609985,339.390015,343.01001,326.230011,332.959991,333.640015,329.220001,330.049988,325.450012,323.769989,324.54000899999994,328.529999,324.76001,335.339996,339.98999,340.779999,341.880005,324.609985,328.690002,315.809998,312.220001,316.920013,323.5700069999999,329.980011,328.079987,331.61999499999996,335.850006,341.13000500000004,338.619995,335.369995,327.640015,327.73999000000003,340.890015,347.559998,342.959991,340.769989,338.69000199999994,345.299988,341.01001,337.25,341.059998,333.11999499999996,338.029999,324.459991,310.600006,310.390015,306.839996,317.869995,322.809998,330.559998,329.820007,329.75000000000006,334.48999,333.7399899999999,341.660004,334.899994,333.790009,325.450012,334.200012,330.45001199999996,335.23999,346.179993,346.220001,342.940002,344.35998499999994,336.350006,338.540009,336.529999,324.170013,332.459991,331.79000900000005,328.070007,334.369995,333.2600100000001,326.480011,331.899994,318.149994,319.589996,316.559998,303.170013,308.709991,300.149994,294.630005,294.64001499999995,301.709991,313.26001,319.0,323.0,237.759995,237.089996,224.910004,220.179993,232.00000000000003,228.070007,219.550003,217.699997,220.99999999999997,216.539993,207.710007,206.160004,202.080002,198.449997,207.600006,210.479996,211.029999,203.490005,208.11000100000004,202.970001,200.059998,187.470001,190.289993,198.5,195.210007,187.610001,186.630005,192.029999,203.630005,207.839996,216.490005,211.490005,216.649994,213.460007,219.570007,221.820007,223.58999599999999,229.860001,227.85000600000004,222.360001,224.850006,233.889999,231.839996,223.300003,222.949997,222.330002,216.460007,214.139999,214.990005,210.179993,210.770004,217.309998,200.419998,188.07000700000003,184.110001,186.990005,180.949997,174.949997,205.729996,200.470001,211.130005,212.029999,223.410004,208.279999,203.77000400000003,196.210007,197.649994,188.740005,191.24000500000002,198.619995,200.039993,202.619995,192.240005,191.28999300000004,193.53999299999998,196.229996,181.279999,183.83000199999998,191.630005,195.130005,193.639999,188.639999,198.860001,190.779999,194.25,195.649994,196.639999,184.0,175.57000699999998,164.259995,163.729996,169.350006,160.869995,163.740005,157.050003,155.850006,158.75,170.160004,169.490005,160.679993,163.940002,161.25,160.029999,168.190002,169.770004,172.190002,170.880005,162.880005,163.270004,163.490005,158.05000299999998,164.699997,167.229996,175.779999,183.089996,183.169998,169.270004,166.649994,159.149994,169.580002,160.720001,159.100006,159.929993,160.190002,168.800003,170.570007,167.110001,170.25,168.52999900000003,178.339996,177.490005,180.5,180.889999,179.470001,174.850006,174.660004,167.96000700000002,163.050003,161.110001,163.259995,168.779999,161.779999,159.169998,157.16000399999996,162.929993,165.36000100000004,160.320007,158.539993,160.389999,162.059998,169.149994,168.960007,153.130005,151.470001,149.550003,146.289993,148.020004,146.089996,142.119995,142.820007,140.410004,136.369995,134.399994,141.610001,136.410004,135.679993,138.610001,140.279999,138.979996,139.070007,133.449997,133.789993,128.539993,127.5,130.289993,126.760002,134.039993,132.800003,133.229996,131.529999,130.009995,129.720001,137.509995,129.820007,97.94000199999999,99.199997,93.160004,95.19999700000001,90.540001,88.910004,90.79000100000002,96.720001,96.47000100000001,101.470001,111.870003,113.019997,114.220001,117.080002,113.230003,111.44999699999998,112.050003,109.860001,111.440002,112.239998,111.410004,108.779999,109.459999,118.099998,120.44000199999999,123.48999799999999,122.43,114.120003,113.93,115.330002,115.900002,114.709999,120.150002,121.58999600000001,116.150002,119.42999999999999,114.48000299999998,117.089996,119.760002,117.120003,118.040001,116.879997,115.620003,120.260002,120.339996,124.739998,127.370003,126.940002,130.020004,129.470001,132.990005,132.889999,136.710007,136.979996,135.360001,133.020004,136.149994,139.369995,143.270004,143.139999,141.5,147.300003,151.740005,147.059998,148.970001,153.119995,188.770004,186.529999,186.059998,191.619995,183.429993,177.919998,174.14999400000002,179.429993,179.479996,177.160004,172.440002,172.880005,172.080002,171.119995,172.039993,170.389999,169.539993,174.940002,173.419998,174.529999,185.25,184.899994,184.509995,184.970001,181.690002,179.509995,180.899994,194.020004,197.75,204.929993,195.61000100000004,197.809998,202.16000399999996,199.809998,204.279999,206.009995,202.839996,200.67999300000002,205.350006,207.839996,211.940002,213.070007,214.720001,211.479996,216.10000599999998,214.75,213.85000600000004,214.0,220.350006,221.49000500000002,218.860001,217.889999,215.699997,213.070007,212.889999,212.789993,207.550003,209.399994,238.55999799999998,240.32000699999998,243.179993,239.24000499999994,237.029999,233.520004,232.77999899999998,233.27000400000003,233.369995,233.080002,235.789993,233.809998,238.860001,238.82000699999998,242.49000499999997,246.85000599999998,245.63999899999993,248.320007,246.74000499999994,249.210007,252.69000200000002,262.040009,262.51998899999995,264.72000099999997,272.609985,272.609985,134.5566488672361,133.56497660492755,136.1387822430532,135.4309587074273,133.66668983008327,135.63530724111175,133.72600907039532,137.67090898361977,137.58141445567287,138.0481678150372],\"yaxis\":\"y\",\"type\":\"scattergl\"}],                        {\"template\":{\"data\":{\"histogram2dcontour\":[{\"type\":\"histogram2dcontour\",\"colorbar\":{\"outlinewidth\":0,\"ticks\":\"\"},\"colorscale\":[[0.0,\"#0d0887\"],[0.1111111111111111,\"#46039f\"],[0.2222222222222222,\"#7201a8\"],[0.3333333333333333,\"#9c179e\"],[0.4444444444444444,\"#bd3786\"],[0.5555555555555556,\"#d8576b\"],[0.6666666666666666,\"#ed7953\"],[0.7777777777777778,\"#fb9f3a\"],[0.8888888888888888,\"#fdca26\"],[1.0,\"#f0f921\"]]}],\"choropleth\":[{\"type\":\"choropleth\",\"colorbar\":{\"outlinewidth\":0,\"ticks\":\"\"}}],\"histogram2d\":[{\"type\":\"histogram2d\",\"colorbar\":{\"outlinewidth\":0,\"ticks\":\"\"},\"colorscale\":[[0.0,\"#0d0887\"],[0.1111111111111111,\"#46039f\"],[0.2222222222222222,\"#7201a8\"],[0.3333333333333333,\"#9c179e\"],[0.4444444444444444,\"#bd3786\"],[0.5555555555555556,\"#d8576b\"],[0.6666666666666666,\"#ed7953\"],[0.7777777777777778,\"#fb9f3a\"],[0.8888888888888888,\"#fdca26\"],[1.0,\"#f0f921\"]]}],\"heatmap\":[{\"type\":\"heatmap\",\"colorbar\":{\"outlinewidth\":0,\"ticks\":\"\"},\"colorscale\":[[0.0,\"#0d0887\"],[0.1111111111111111,\"#46039f\"],[0.2222222222222222,\"#7201a8\"],[0.3333333333333333,\"#9c179e\"],[0.4444444444444444,\"#bd3786\"],[0.5555555555555556,\"#d8576b\"],[0.6666666666666666,\"#ed7953\"],[0.7777777777777778,\"#fb9f3a\"],[0.8888888888888888,\"#fdca26\"],[1.0,\"#f0f921\"]]}],\"heatmapgl\":[{\"type\":\"heatmapgl\",\"colorbar\":{\"outlinewidth\":0,\"ticks\":\"\"},\"colorscale\":[[0.0,\"#0d0887\"],[0.1111111111111111,\"#46039f\"],[0.2222222222222222,\"#7201a8\"],[0.3333333333333333,\"#9c179e\"],[0.4444444444444444,\"#bd3786\"],[0.5555555555555556,\"#d8576b\"],[0.6666666666666666,\"#ed7953\"],[0.7777777777777778,\"#fb9f3a\"],[0.8888888888888888,\"#fdca26\"],[1.0,\"#f0f921\"]]}],\"contourcarpet\":[{\"type\":\"contourcarpet\",\"colorbar\":{\"outlinewidth\":0,\"ticks\":\"\"}}],\"contour\":[{\"type\":\"contour\",\"colorbar\":{\"outlinewidth\":0,\"ticks\":\"\"},\"colorscale\":[[0.0,\"#0d0887\"],[0.1111111111111111,\"#46039f\"],[0.2222222222222222,\"#7201a8\"],[0.3333333333333333,\"#9c179e\"],[0.4444444444444444,\"#bd3786\"],[0.5555555555555556,\"#d8576b\"],[0.6666666666666666,\"#ed7953\"],[0.7777777777777778,\"#fb9f3a\"],[0.8888888888888888,\"#fdca26\"],[1.0,\"#f0f921\"]]}],\"surface\":[{\"type\":\"surface\",\"colorbar\":{\"outlinewidth\":0,\"ticks\":\"\"},\"colorscale\":[[0.0,\"#0d0887\"],[0.1111111111111111,\"#46039f\"],[0.2222222222222222,\"#7201a8\"],[0.3333333333333333,\"#9c179e\"],[0.4444444444444444,\"#bd3786\"],[0.5555555555555556,\"#d8576b\"],[0.6666666666666666,\"#ed7953\"],[0.7777777777777778,\"#fb9f3a\"],[0.8888888888888888,\"#fdca26\"],[1.0,\"#f0f921\"]]}],\"mesh3d\":[{\"type\":\"mesh3d\",\"colorbar\":{\"outlinewidth\":0,\"ticks\":\"\"}}],\"scatter\":[{\"fillpattern\":{\"fillmode\":\"overlay\",\"size\":10,\"solidity\":0.2},\"type\":\"scatter\"}],\"parcoords\":[{\"type\":\"parcoords\",\"line\":{\"colorbar\":{\"outlinewidth\":0,\"ticks\":\"\"}}}],\"scatterpolargl\":[{\"type\":\"scatterpolargl\",\"marker\":{\"colorbar\":{\"outlinewidth\":0,\"ticks\":\"\"}}}],\"bar\":[{\"error_x\":{\"color\":\"#2a3f5f\"},\"error_y\":{\"color\":\"#2a3f5f\"},\"marker\":{\"line\":{\"color\":\"#E5ECF6\",\"width\":0.5},\"pattern\":{\"fillmode\":\"overlay\",\"size\":10,\"solidity\":0.2}},\"type\":\"bar\"}],\"scattergeo\":[{\"type\":\"scattergeo\",\"marker\":{\"colorbar\":{\"outlinewidth\":0,\"ticks\":\"\"}}}],\"scatterpolar\":[{\"type\":\"scatterpolar\",\"marker\":{\"colorbar\":{\"outlinewidth\":0,\"ticks\":\"\"}}}],\"histogram\":[{\"marker\":{\"pattern\":{\"fillmode\":\"overlay\",\"size\":10,\"solidity\":0.2}},\"type\":\"histogram\"}],\"scattergl\":[{\"type\":\"scattergl\",\"marker\":{\"colorbar\":{\"outlinewidth\":0,\"ticks\":\"\"}}}],\"scatter3d\":[{\"type\":\"scatter3d\",\"line\":{\"colorbar\":{\"outlinewidth\":0,\"ticks\":\"\"}},\"marker\":{\"colorbar\":{\"outlinewidth\":0,\"ticks\":\"\"}}}],\"scattermapbox\":[{\"type\":\"scattermapbox\",\"marker\":{\"colorbar\":{\"outlinewidth\":0,\"ticks\":\"\"}}}],\"scatterternary\":[{\"type\":\"scatterternary\",\"marker\":{\"colorbar\":{\"outlinewidth\":0,\"ticks\":\"\"}}}],\"scattercarpet\":[{\"type\":\"scattercarpet\",\"marker\":{\"colorbar\":{\"outlinewidth\":0,\"ticks\":\"\"}}}],\"carpet\":[{\"aaxis\":{\"endlinecolor\":\"#2a3f5f\",\"gridcolor\":\"white\",\"linecolor\":\"white\",\"minorgridcolor\":\"white\",\"startlinecolor\":\"#2a3f5f\"},\"baxis\":{\"endlinecolor\":\"#2a3f5f\",\"gridcolor\":\"white\",\"linecolor\":\"white\",\"minorgridcolor\":\"white\",\"startlinecolor\":\"#2a3f5f\"},\"type\":\"carpet\"}],\"table\":[{\"cells\":{\"fill\":{\"color\":\"#EBF0F8\"},\"line\":{\"color\":\"white\"}},\"header\":{\"fill\":{\"color\":\"#C8D4E3\"},\"line\":{\"color\":\"white\"}},\"type\":\"table\"}],\"barpolar\":[{\"marker\":{\"line\":{\"color\":\"#E5ECF6\",\"width\":0.5},\"pattern\":{\"fillmode\":\"overlay\",\"size\":10,\"solidity\":0.2}},\"type\":\"barpolar\"}],\"pie\":[{\"automargin\":true,\"type\":\"pie\"}]},\"layout\":{\"autotypenumbers\":\"strict\",\"colorway\":[\"#636efa\",\"#EF553B\",\"#00cc96\",\"#ab63fa\",\"#FFA15A\",\"#19d3f3\",\"#FF6692\",\"#B6E880\",\"#FF97FF\",\"#FECB52\"],\"font\":{\"color\":\"#2a3f5f\"},\"hovermode\":\"closest\",\"hoverlabel\":{\"align\":\"left\"},\"paper_bgcolor\":\"white\",\"plot_bgcolor\":\"#E5ECF6\",\"polar\":{\"bgcolor\":\"#E5ECF6\",\"angularaxis\":{\"gridcolor\":\"white\",\"linecolor\":\"white\",\"ticks\":\"\"},\"radialaxis\":{\"gridcolor\":\"white\",\"linecolor\":\"white\",\"ticks\":\"\"}},\"ternary\":{\"bgcolor\":\"#E5ECF6\",\"aaxis\":{\"gridcolor\":\"white\",\"linecolor\":\"white\",\"ticks\":\"\"},\"baxis\":{\"gridcolor\":\"white\",\"linecolor\":\"white\",\"ticks\":\"\"},\"caxis\":{\"gridcolor\":\"white\",\"linecolor\":\"white\",\"ticks\":\"\"}},\"coloraxis\":{\"colorbar\":{\"outlinewidth\":0,\"ticks\":\"\"}},\"colorscale\":{\"sequential\":[[0.0,\"#0d0887\"],[0.1111111111111111,\"#46039f\"],[0.2222222222222222,\"#7201a8\"],[0.3333333333333333,\"#9c179e\"],[0.4444444444444444,\"#bd3786\"],[0.5555555555555556,\"#d8576b\"],[0.6666666666666666,\"#ed7953\"],[0.7777777777777778,\"#fb9f3a\"],[0.8888888888888888,\"#fdca26\"],[1.0,\"#f0f921\"]],\"sequentialminus\":[[0.0,\"#0d0887\"],[0.1111111111111111,\"#46039f\"],[0.2222222222222222,\"#7201a8\"],[0.3333333333333333,\"#9c179e\"],[0.4444444444444444,\"#bd3786\"],[0.5555555555555556,\"#d8576b\"],[0.6666666666666666,\"#ed7953\"],[0.7777777777777778,\"#fb9f3a\"],[0.8888888888888888,\"#fdca26\"],[1.0,\"#f0f921\"]],\"diverging\":[[0,\"#8e0152\"],[0.1,\"#c51b7d\"],[0.2,\"#de77ae\"],[0.3,\"#f1b6da\"],[0.4,\"#fde0ef\"],[0.5,\"#f7f7f7\"],[0.6,\"#e6f5d0\"],[0.7,\"#b8e186\"],[0.8,\"#7fbc41\"],[0.9,\"#4d9221\"],[1,\"#276419\"]]},\"xaxis\":{\"gridcolor\":\"white\",\"linecolor\":\"white\",\"ticks\":\"\",\"title\":{\"standoff\":15},\"zerolinecolor\":\"white\",\"automargin\":true,\"zerolinewidth\":2},\"yaxis\":{\"gridcolor\":\"white\",\"linecolor\":\"white\",\"ticks\":\"\",\"title\":{\"standoff\":15},\"zerolinecolor\":\"white\",\"automargin\":true,\"zerolinewidth\":2},\"scene\":{\"xaxis\":{\"backgroundcolor\":\"#E5ECF6\",\"gridcolor\":\"white\",\"linecolor\":\"white\",\"showbackground\":true,\"ticks\":\"\",\"zerolinecolor\":\"white\",\"gridwidth\":2},\"yaxis\":{\"backgroundcolor\":\"#E5ECF6\",\"gridcolor\":\"white\",\"linecolor\":\"white\",\"showbackground\":true,\"ticks\":\"\",\"zerolinecolor\":\"white\",\"gridwidth\":2},\"zaxis\":{\"backgroundcolor\":\"#E5ECF6\",\"gridcolor\":\"white\",\"linecolor\":\"white\",\"showbackground\":true,\"ticks\":\"\",\"zerolinecolor\":\"white\",\"gridwidth\":2}},\"shapedefaults\":{\"line\":{\"color\":\"#2a3f5f\"}},\"annotationdefaults\":{\"arrowcolor\":\"#2a3f5f\",\"arrowhead\":0,\"arrowwidth\":1},\"geo\":{\"bgcolor\":\"white\",\"landcolor\":\"#E5ECF6\",\"subunitcolor\":\"white\",\"showland\":true,\"showlakes\":true,\"lakecolor\":\"white\"},\"title\":{\"x\":0.05},\"mapbox\":{\"style\":\"light\"}}},\"xaxis\":{\"anchor\":\"y\",\"domain\":[0.0,1.0],\"title\":{\"text\":\"Timestamp\"},\"showgrid\":false},\"yaxis\":{\"anchor\":\"x\",\"domain\":[0.0,1.0],\"title\":{\"text\":\"Close price\"},\"showgrid\":false},\"legend\":{\"title\":{\"text\":\"Stock\"},\"tracegroupgap\":0},\"margin\":{\"t\":60},\"title\":{\"text\":\"Plotting whole closing price with prediction\"},\"font\":{\"size\":15,\"color\":\"black\"},\"plot_bgcolor\":\"white\"},                        {\"responsive\": true}                    ).then(function(){\n",
              "                            \n",
              "var gd = document.getElementById('011bf934-e941-474b-8e15-474d44826c70');\n",
              "var x = new MutationObserver(function (mutations, observer) {{\n",
              "        var display = window.getComputedStyle(gd).display;\n",
              "        if (!display || display === 'none') {{\n",
              "            console.log([gd, 'removed!']);\n",
              "            Plotly.purge(gd);\n",
              "            observer.disconnect();\n",
              "        }}\n",
              "}});\n",
              "\n",
              "// Listen for the removal of the full notebook cells\n",
              "var notebookContainer = gd.closest('#notebook-container');\n",
              "if (notebookContainer) {{\n",
              "    x.observe(notebookContainer, {childList: true});\n",
              "}}\n",
              "\n",
              "// Listen for the clearing of the current output cell\n",
              "var outputEl = gd.closest('.output');\n",
              "if (outputEl) {{\n",
              "    x.observe(outputEl, {childList: true});\n",
              "}}\n",
              "\n",
              "                        })                };                            </script>        </div>\n",
              "</body>\n",
              "</html>"
            ]
          },
          "metadata": {}
        }
      ]
    }
  ]
}